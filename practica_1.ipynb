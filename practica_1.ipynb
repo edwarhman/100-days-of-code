{
  "cells": [
    {
      "cell_type": "markdown",
      "metadata": {
        "id": "view-in-github",
        "colab_type": "text"
      },
      "source": [
        "<a href=\"https://colab.research.google.com/github/edwarhman/100-days-of-code/blob/master/practica_1.ipynb\" target=\"_parent\"><img src=\"https://colab.research.google.com/assets/colab-badge.svg\" alt=\"Open In Colab\"/></a>"
      ]
    },
    {
      "cell_type": "markdown",
      "source": [
        "Es necesario importar la librería numpy"
      ],
      "metadata": {
        "id": "Rm9vtQ0BwJTu"
      }
    },
    {
      "cell_type": "code",
      "execution_count": null,
      "metadata": {
        "id": "_x9MDMWLpurk"
      },
      "outputs": [],
      "source": [
        "import numpy as np"
      ]
    },
    {
      "cell_type": "markdown",
      "metadata": {
        "id": "7ZTgrxd0blE8"
      },
      "source": [
        "# Métodos directos"
      ]
    },
    {
      "cell_type": "markdown",
      "metadata": {
        "id": "XL3DAIXRiYZm"
      },
      "source": [
        "## Cálculo de Triangular superior\n",
        "\n",
        "dada una matriz A de dimensiones n x n y un vector b de tamaño n, retorna la matriz superior de A y las transformaciones pertinentes al vector b.\n",
        "\n",
        "### Entrada:\n",
        "\n",
        "    A: Matriz de dimensiones n x n\n",
        "    b: Vector de tamaño n\n",
        "\n",
        "### Salida:\n",
        "\n",
        "    B: Matriz superior de dimensiones n x n\n",
        "    c: vector transformación de tamaño n"
      ]
    },
    {
      "cell_type": "code",
      "execution_count": null,
      "metadata": {
        "id": "QCBuks5niYZm"
      },
      "outputs": [],
      "source": [
        "def triangsupMat(A, b):\n",
        "  '''\n",
        "  Ecuentra la matriz triangular superior de A y la transformación de b correspondiente\n",
        "\n",
        "  Args:\n",
        "    A (array): matriz\n",
        "    b (array): vector\n",
        "\n",
        "  Returns:\n",
        "    B (array): matriz triangular superior\n",
        "    c (array): vector\n",
        "  '''\n",
        "  (n,m) = A.shape\n",
        "  o = b.size\n",
        "  B = []\n",
        "\n",
        "  if (m!=n):\n",
        "    print('La matriz no es cuadrada')\n",
        "    return\n",
        "  if(n!=o):\n",
        "    print('El sistema no es compatible determinado')\n",
        "    return\n",
        "\n",
        "  B = np.copy(A)\n",
        "  c = np.copy(b)\n",
        "\n",
        "  # pivoteo parcial\n",
        "  for j in range(0,n-1):\n",
        "    k = np.argmax(np.abs(B[j:n,j])) # maximo pivote por columna\n",
        "    k=k+j\n",
        "    # intercambio de filas\n",
        "    faux = np.copy(B[j,:])\n",
        "    B[j,:] = np.copy(B[k,:])\n",
        "    B[k,:] = np.copy(faux)\n",
        "    # intercambio elementos del vector\n",
        "    caux = c[j]\n",
        "    c[j] = c[k]\n",
        "    c[k] = caux\n",
        "    for i in range(j+1,n):\n",
        "      mu = B[i,j]/B[j,j] # calculo de multiplicadores\n",
        "      B[i,:] = B[i,:] - (mu*B[j,:])\n",
        "      c[i] = c[i] - (mu*c[j])\n",
        "  return B, c"
      ]
    },
    {
      "cell_type": "markdown",
      "metadata": {
        "id": "t91cIVfTiYZn"
      },
      "source": [
        "## Resolver por sustitución\n",
        "\n",
        "Resuelve un sistema de ecuaciones lineales mediante la sustitucion de variables.\n",
        "\n",
        "### Argumentos\n",
        "\n",
        "    A (np.array): Matriz de ecuaciones.\n",
        "    b (np.array): Vector de constantes.\n",
        "    forward (bool): Direccion de la resolucion. True: hacia arriba, False: hacia abajo.\n",
        "\n",
        "### Resultado\n",
        "    x: Vector de soluciones del sistema."
      ]
    },
    {
      "cell_type": "code",
      "execution_count": null,
      "metadata": {
        "id": "6d74Wbh-iYZn"
      },
      "outputs": [],
      "source": [
        "def resolverPorSustitucion(A, b, forward=False):\n",
        "  \"\"\"Resuelve un sistema de ecuaciones lineales mediante la sustitucion\n",
        "  de variables.\n",
        "\n",
        "  Args:\n",
        "    A (np.array): Matriz de ecuaciones.\n",
        "    b (np.array): Vector de constantes.\n",
        "    forward (bool): Direccion de la resolucion. True: hacia arriba, False: hacia abajo.\n",
        "\n",
        "  Returns:\n",
        "    np.array: Vector de solucion.\n",
        "  \"\"\"\n",
        "\n",
        "  n = b.size\n",
        "  x = np.zeros(n)\n",
        "  rango = range(0, n) if forward else range(n-1, -1, -1)\n",
        "\n",
        "  for i in rango:\n",
        "    x[i] = (b[i] - (np.sum(A[i,:] * x))) / A[i, i]\n",
        "\n",
        "  return x"
      ]
    },
    {
      "cell_type": "markdown",
      "metadata": {
        "id": "6Y7m-JgEiYZn"
      },
      "source": [
        "## Eliminación Gaussiana\n",
        "\n",
        "Resuelve el sistema de ecuaciones $AX = B$ mediante el método de Gauss-Jordan\n",
        "\n",
        "### Argumentos\n",
        "  A es una matriz de dimensión n x n\n",
        "  \n",
        "  b es vector de tamaño n  \n",
        "\n",
        "### Resultado\n",
        "Devuelve un vector de solución de $Ax = B$"
      ]
    },
    {
      "cell_type": "code",
      "execution_count": null,
      "metadata": {
        "id": "dUeJSvptiYZn"
      },
      "outputs": [],
      "source": [
        "def resolverSistemaEliminacionGaussiana(A, b):\n",
        "    '''\n",
        "    Resuelve el sistema de ecuaciones AX = B mediante el método de Gauss-Jordan\n",
        "\n",
        "    Args:\n",
        "    A (array): matriz de ecuaciones\n",
        "    b (array): vector de constantes\n",
        "\n",
        "    Returns:\n",
        "    array: vector de solución\n",
        "    '''\n",
        "    B, c = triangsupMat(A,b)\n",
        "\n",
        "    return resolverPorSustitucion(B, c)"
      ]
    },
    {
      "cell_type": "markdown",
      "metadata": {
        "id": "RxUV3gskiYZo"
      },
      "source": [
        "## Factorización LU\n",
        "\n",
        "Descompone una matriz cuadrada en su factorización LU.\n",
        "\n",
        "### Argunmentos\n",
        "\n",
        "* A: matriz de la matriz de ecuaciones\n",
        "\n",
        "### Resultado\n",
        "\n",
        "* L: matriz triangular inferior L\n",
        "* U: matriz triangular superior U\n"
      ]
    },
    {
      "cell_type": "code",
      "execution_count": null,
      "metadata": {
        "id": "cZOhULH7iYZo"
      },
      "outputs": [],
      "source": [
        "def factolizarLU(A):\n",
        "    '''\n",
        "    Factorizacion LU de una matriz\n",
        "\n",
        "    Args:\n",
        "        A (array): matriz a factorizar\n",
        "    Returns:\n",
        "        L (array): matriz L de la factorizacion LU\n",
        "        U (array): matriz U de la factorizacion LU\n",
        "    '''\n",
        "    (n,m) = A.shape\n",
        "\n",
        "\n",
        "    if (m!=n):\n",
        "        print ('La matriz no es cuadrada')\n",
        "        return\n",
        "\n",
        "    # inicializacion de matrizes\n",
        "    U = []\n",
        "    L = np.zeros((n,n))\n",
        "\n",
        "    U = np.copy(A)\n",
        "    for j in range(0,n-1):\n",
        "        k = np.argmax(np.abs(U[j:n,j])) # maximo pivote por columna\n",
        "        k=k+j\n",
        "\n",
        "        for i in range(j+1,n):\n",
        "             mu = U[i,j]/U[j,j]    # calculo de multiplicadores\n",
        "             U[i,:] = U[i,:] - (mu*U[j,:]) # multiplicacion por el multiplicador\n",
        "             L[i,j] = mu # asignacion de multiplicador\n",
        "\n",
        "    L = np.identity(n) + L # sumar matriz identidad\n",
        "    return L, U"
      ]
    },
    {
      "cell_type": "markdown",
      "metadata": {
        "id": "mqp3XEGciYZo"
      },
      "source": [
        "## Resolver Sistema mediante Factorización LU\n",
        "\n",
        "Resuelve el sistema de ecuaciones lineales mediante el método de factorización LU.\n",
        "\n",
        "### Argumentos\n",
        "\n",
        "* `A`: matriz del sistema de ecuaciones lineales\n",
        "* `b`: vector de constantes del sistema de ecuaciones lineales\n",
        "\n",
        "### Resultado\n",
        "\n",
        "* `x`: vector de solución del sistema de ecuaciones lineales"
      ]
    },
    {
      "cell_type": "code",
      "execution_count": null,
      "metadata": {
        "id": "olVyWlU-iYZp"
      },
      "outputs": [],
      "source": [
        "def resolverSistemaLU(A, b):\n",
        "  '''\n",
        "  Resuelve un sistema de ecuaciones lineales usando el metodo LU\n",
        "\n",
        "  Args:\n",
        "    A (array): matriz de la ecuacion\n",
        "    b (array): vector de la ecuacion\n",
        "\n",
        "  Returns:\n",
        "    array: vector de la solucion\n",
        "  '''\n",
        "  L, U = factolizarLU(A)\n",
        "  y = resolverPorSustitucion(L,b, forward=True)\n",
        "  return resolverPorSustitucion(U, y)"
      ]
    },
    {
      "cell_type": "markdown",
      "metadata": {
        "id": "OApt6bmQiYZp"
      },
      "source": [
        "## Factorización PALU\n",
        "\n",
        "Descompone una matriz cuadrada en su factorización LU usando permutaciones de filas.\n",
        "\n",
        "### Argumentos\n",
        "\n",
        "* `A`: matriz cuadrada\n",
        "\n",
        "### Resultados\n",
        "\n",
        "* `L`: matriz L\n",
        "* `U`: matriz U\n",
        "* `P`: permutaciones de filas"
      ]
    },
    {
      "cell_type": "code",
      "execution_count": null,
      "metadata": {
        "id": "0yqNVCs6iYZp"
      },
      "outputs": [],
      "source": [
        "def factolizarPALU(A):\n",
        "    '''\n",
        "    Factorizacion de matrizes cuadradas por LU y permutaciones de filas\n",
        "\n",
        "    Args:\n",
        "        A (array): matriz a factorizar\n",
        "    Returns:\n",
        "        P (array): matriz de permutaciones\n",
        "        L (array): matriz L\n",
        "        U (array): matriz U\n",
        "    '''\n",
        "    (n,m) = A.shape\n",
        "\n",
        "\n",
        "    if (m!=n):\n",
        "        print ('La matriz no es cuadrada')\n",
        "        return\n",
        "\n",
        "    U = []\n",
        "    P = np.identity(n)\n",
        "    L = np.zeros((n,n))\n",
        "\n",
        "    U = np.copy(A)\n",
        "    for j in range(0,n-1):\n",
        "        k = np.argmax(np.abs(U[j:n,j])) # maximo pivote por columna\n",
        "        k=k+j\n",
        "\n",
        "        # Permutar matriz Superior\n",
        "        faux = np.copy(U[j,:])\n",
        "        U[j,:] = np.copy(U[k,:])\n",
        "        U[k,:] = np.copy(faux)\n",
        "\n",
        "        # Registrar permutaciones\n",
        "        paux = np.copy(P[j,:])\n",
        "        P[j,:] = np.copy(P[k,:])\n",
        "        P[k,:] = np.copy(paux)\n",
        "\n",
        "        # Permutar matriz inferior\n",
        "        laux = np.copy(L[j,:])\n",
        "        L[j,:] = np.copy(L[k,:])\n",
        "        L[k,:] = np.copy(laux)\n",
        "\n",
        "\n",
        "        for i in range(j+1,n):\n",
        "             mu = U[i,j]/U[j,j]    # calculo de multiplicadores\n",
        "             U[i,:] = U[i,:] - (mu*U[j,:]) # multiplicacion por multiplicadores\n",
        "             L[i,j] = mu # registro de multiplicadores\n",
        "\n",
        "    L = np.identity(n) + L # sumar matriz identidad\n",
        "    return P, L, U"
      ]
    },
    {
      "cell_type": "markdown",
      "metadata": {
        "id": "E-NsoWKoiYZp"
      },
      "source": [
        "## Resolver Sistema mediante factorización PALU\n",
        "\n",
        "Resuelve el sistema de ecuaciones lineales mediante el método de factorización PALU.\n",
        "\n",
        "### Argumentos\n",
        "\n",
        "* `A`: matriz de la ecuación a resolver.\n",
        "* `b`: vector de la ecuación a resolver.\n",
        "\n",
        "### Resultado\n",
        "\n",
        "* `x`: vector de solución."
      ]
    },
    {
      "cell_type": "code",
      "execution_count": null,
      "metadata": {
        "cellView": "form",
        "id": "LPTyWATMpurl"
      },
      "outputs": [],
      "source": [
        "def resolverSistemaPALU(A, b):\n",
        "  '''\n",
        "  Resuelve un sistema de ecuaciones lineales mediante el método de PALU\n",
        "\n",
        "  Args:\n",
        "    A (array): matriz de ecuaciones\n",
        "    b (array): vector de constantes\n",
        "\n",
        "  Returns:\n",
        "    array: vector de solución\n",
        "  '''\n",
        "  P, L, U = factolizarPALU(A)\n",
        "  y = resolverPorSustitucion(L,np.matmul(P,b), forward=True)\n",
        "  return resolverPorSustitucion(U, y)\n",
        "  # return np.round(resolverPorSustitucion(U, y))\n"
      ]
    },
    {
      "cell_type": "markdown",
      "metadata": {
        "id": "5rzOo2xLpurm"
      },
      "source": [
        "## Ejemplos"
      ]
    },
    {
      "cell_type": "code",
      "execution_count": null,
      "metadata": {
        "colab": {
          "base_uri": "https://localhost:8080/"
        },
        "id": "0Fg9DIb5purn",
        "outputId": "9d89319b-1f35-4e5c-886d-3f1f62c21eac"
      },
      "outputs": [
        {
          "output_type": "stream",
          "name": "stdout",
          "text": [
            "LU\n",
            "[1. 2. 1.]\n",
            "[2. 7. 6.]\n",
            "PALU\n",
            "[1. 2. 1.]\n",
            "[2. 7. 6.]\n",
            "Eliminación Gaussiana\n",
            "[1. 2. 1.]\n",
            "[2. 7. 6.]\n"
          ]
        }
      ],
      "source": [
        "\n",
        "# @title Ejemplo lamina SistemasLineales pag. 29\n",
        "A = np.array([\n",
        "    [1.,0.,1.],\n",
        "    [2.,3.,-1.],\n",
        "    [1.,2.,1.]\n",
        "])\n",
        "\n",
        "b = np.array([2.,7.,6.])\n",
        "\n",
        "x = resolverSistemaLU(A, b)\n",
        "print('LU')\n",
        "print(x)\n",
        "comprobacion = np.matmul(A, x)\n",
        "print(comprobacion)\n",
        "\n",
        "x = resolverSistemaPALU(A, b)\n",
        "print('PALU')\n",
        "print(x)\n",
        "comprobacion = np.matmul(A, x)\n",
        "print(comprobacion)\n",
        "\n",
        "print('Eliminación Gaussiana')\n",
        "x = resolverSistemaEliminacionGaussiana(A, b)\n",
        "print(x)\n",
        "comprobacion = np.matmul(A, x)\n",
        "print(comprobacion)\n"
      ]
    },
    {
      "cell_type": "code",
      "execution_count": null,
      "metadata": {
        "colab": {
          "base_uri": "https://localhost:8080/"
        },
        "id": "1jsMdYQ6puro",
        "outputId": "545dfc30-8fc2-4817-e5ac-f23ff2c1382d"
      },
      "outputs": [
        {
          "output_type": "stream",
          "name": "stdout",
          "text": [
            "[[ 1.  1.  0.  3.]\n",
            " [ 2.  1. -1.  1.]\n",
            " [ 3. -1. -1.  2.]\n",
            " [-1.  2.  3. -1.]] [ 4  1 -3  4]\n",
            "\n",
            "\n",
            "LU\n",
            "[-1.  2.  0.  1.]\n",
            "[ 4.  1. -3.  4.]\n",
            "\n",
            "\n",
            "PALU\n",
            "[-1.  2. -0.  1.]\n",
            "[ 4.  1. -3.  4.]\n",
            "\n",
            "\n",
            "Eliminación Gaussiana\n",
            "[-0.86  1.95  0.    0.77]\n",
            "[ 3.4  1.  -3.   4. ]\n"
          ]
        }
      ],
      "source": [
        "\n",
        "#@title ejemplo libro burden faires pag. 270\n",
        "\n",
        "A = np.array([\n",
        "    [1.0, 1.0,0.0,3.0],\n",
        "    [2.0,1.0,-1.0,1.0],\n",
        "    [3.0,-1.0,-1.0,2.0],\n",
        "    [-1.0,2.0,3.0,-1.0]\n",
        "])\n",
        "\n",
        "b = np.array([4,1,-3,4])\n",
        "\n",
        "print(A, b)\n",
        "\n",
        "resultado = resolverSistemaLU(A, b)\n",
        "print('\\n')\n",
        "print('LU')\n",
        "print(resultado)\n",
        "comprobacion = np.matmul(A, resultado)\n",
        "print(comprobacion)\n",
        "resultado = resolverSistemaPALU(A, b)\n",
        "print('\\n')\n",
        "print('PALU')\n",
        "print(np.round(resultado, 2))\n",
        "comprobacion = np.matmul(A, resultado)\n",
        "print(comprobacion)\n",
        "print('\\n')\n",
        "print('Eliminación Gaussiana')\n",
        "x = resolverSistemaEliminacionGaussiana(A, b)\n",
        "print(np.round(x, 2))\n",
        "comprobacion = np.matmul(A, x)\n",
        "print(comprobacion)\n"
      ]
    },
    {
      "cell_type": "code",
      "execution_count": null,
      "metadata": {
        "colab": {
          "base_uri": "https://localhost:8080/"
        },
        "id": "AQtZVxvSpuro",
        "outputId": "6b3686b2-ccec-40a4-838b-1b78b536a0b7"
      },
      "outputs": [
        {
          "output_type": "stream",
          "name": "stdout",
          "text": [
            "[[ 1. -1.  2. -1.]\n",
            " [ 2. -2.  3. -3.]\n",
            " [ 1.  1.  1.  0.]\n",
            " [ 1. -1.  4.  3.]] [ -8 -20  -2   4]\n",
            "\n",
            "\n",
            "LU\n",
            "[nan nan nan nan]\n",
            "[nan nan nan nan]\n",
            "\n",
            "\n",
            "PALU\n",
            "[-7.  3.  2.  2.]\n",
            "[ -8. -20.  -2.   4.]\n",
            "\n",
            "\n",
            "Eliminación Gaussiana\n",
            "[-13.    5.4   5.6  -0. ]\n",
            "[ -7.2 -20.   -2.    4. ]\n"
          ]
        },
        {
          "output_type": "stream",
          "name": "stderr",
          "text": [
            "<ipython-input-26-223a351b75af>:28: RuntimeWarning: divide by zero encountered in scalar divide\n",
            "  mu = U[i,j]/U[j,j]    # calculo de multiplicadores\n",
            "<ipython-input-26-223a351b75af>:29: RuntimeWarning: invalid value encountered in multiply\n",
            "  U[i,:] = U[i,:] - (mu*U[j,:]) # multiplicacion por el multiplicador\n",
            "<ipython-input-26-223a351b75af>:28: RuntimeWarning: invalid value encountered in scalar divide\n",
            "  mu = U[i,j]/U[j,j]    # calculo de multiplicadores\n",
            "<ipython-input-24-e61f77049430>:19: RuntimeWarning: invalid value encountered in multiply\n",
            "  x[i] = (b[i] - (np.sum(A[i,:] * x))) / A[i, i]\n"
          ]
        }
      ],
      "source": [
        "#@title ejemplo libro burden faires pag. 275\n",
        "\n",
        "A = np.array([\n",
        "    [1.0, -1.0,2.0,-1.0],\n",
        "    [2.0,-2.0,3.0,-3.0],\n",
        "    [1.0,1.0,1.0,0.0],\n",
        "    [1.0,-1.0,4.0,3.0]\n",
        "])\n",
        "\n",
        "b = np.array([-8,-20,-2,4])\n",
        "\n",
        "print(A, b)\n",
        "\n",
        "resultado = resolverSistemaLU(A, b)\n",
        "print('\\n')\n",
        "print('LU')\n",
        "print(resultado)\n",
        "comprobacion = np.matmul(A, resultado)\n",
        "print(comprobacion)\n",
        "resultado = resolverSistemaPALU(A, b)\n",
        "print('\\n')\n",
        "print('PALU')\n",
        "print(resultado)\n",
        "comprobacion = np.matmul(A, resultado)\n",
        "print(comprobacion)\n",
        "print('\\n')\n",
        "print('Eliminación Gaussiana')\n",
        "x = resolverSistemaEliminacionGaussiana(A, b)\n",
        "print(x)\n",
        "comprobacion = np.matmul(A, x)\n",
        "print(comprobacion)"
      ]
    },
    {
      "cell_type": "code",
      "execution_count": null,
      "metadata": {
        "colab": {
          "base_uri": "https://localhost:8080/"
        },
        "id": "IzGq6zXwpurp",
        "outputId": "56286da0-ef67-49e2-acf2-39d4bf26ea35"
      },
      "outputs": [
        {
          "output_type": "stream",
          "name": "stdout",
          "text": [
            "[[ 1.  1.  0.  3.]\n",
            " [ 2.  1. -1.  1.]\n",
            " [ 3. -1. -1.  2.]\n",
            " [-1.  2.  3. -1.]] [  4.  -7.  13. -13.]\n",
            "\n",
            "\n",
            "metodo LU\n",
            "[-0.35897436 -8.1025641   2.33333333  4.15384615]\n",
            "[  4.  -7.  13. -13.]\n",
            "\n",
            "\n",
            "PALU\n",
            "[-0.35897436 -8.1025641   2.33333333  4.15384615]\n",
            "[  4.  -7.  13. -13.]\n",
            "\n",
            "\n",
            "Eliminación Gaussiana\n",
            "[-0.35897436 -8.1025641   2.33333333  4.15384615]\n",
            "[  4.  -7.  13. -13.]\n",
            "\n",
            "\n"
          ]
        }
      ],
      "source": [
        "# prueba LU Libro ingles 409\n",
        "\n",
        "A = np.array([\n",
        "    [1., 1., 0., 3.],\n",
        "    [2., 1., -1., 1.],\n",
        "    [3., -1., -1., 2.],\n",
        "    [-1., 2., 3., -1.]\n",
        "])\n",
        "b = np.array([4., -7., 13., -13.])\n",
        "print(A, b)\n",
        "\n",
        "x = resolverSistemaLU(A, b)\n",
        "\n",
        "print('\\n')\n",
        "print('metodo LU')\n",
        "print(x)\n",
        "comprobacion = np.matmul(A, x)\n",
        "print(comprobacion)\n",
        "resultado = resolverSistemaPALU(A, b)\n",
        "print('\\n')\n",
        "print('PALU')\n",
        "print(resultado)\n",
        "comprobacion = np.matmul(A, resultado)\n",
        "print(comprobacion)\n",
        "print('\\n')\n",
        "print('Eliminación Gaussiana')\n",
        "x = resolverSistemaEliminacionGaussiana(A, b)\n",
        "print(x)\n",
        "comprobacion = np.matmul(A, x)\n",
        "print(comprobacion)\n",
        "print('\\n')"
      ]
    },
    {
      "cell_type": "markdown",
      "metadata": {
        "id": "96g2hYNNblFH"
      },
      "source": [
        "# Métodos iterativos"
      ]
    },
    {
      "cell_type": "markdown",
      "metadata": {
        "id": "ruejuvToiYZq"
      },
      "source": [
        "## Comprobar Matriz Diagonal Dominante\n",
        "\n",
        "Comprueba si una matriz es diagonal dominante o estrictamente diagonal dominante.\n",
        "\n",
        "### Argumentos\n",
        "\n",
        "    A: Matriz cuadrada n x n a evaluar\n",
        "    estricto: false para evaluar si es diagonal dominante o true para evaluar si es estrictamente diagonal dominante\n",
        "\n",
        "### Resultado\n",
        "\n",
        "    valor booleano indicando si es diagonal dominante o no"
      ]
    },
    {
      "cell_type": "code",
      "execution_count": null,
      "metadata": {
        "id": "B0dZ67DaiYZq"
      },
      "outputs": [],
      "source": [
        "def comprobarMatrizDiagonalDominante(A, estricto = False):\n",
        "    '''\n",
        "    Devuelve True si la matriz es diagonal dominante, False en caso contrario\n",
        "\n",
        "    '''\n",
        "    n = A.shape[1]\n",
        "\n",
        "    for i in range(0,n): # itera a través de cada fila\n",
        "         # obtiene la suma absoluta de todos los elementos de la fila menos el elemento diagonal\n",
        "        suma = np.sum(np.abs(A[i,:])) - np.abs(A[i,i])\n",
        "        # si la suma es mayor a la diagonal absoluta, la matriz no es diagonal dominante\n",
        "        if(suma >= np.abs(A[i,i]) if estricto else suma > np.abs(A[i,i])):\n",
        "            return False\n",
        "    return True"
      ]
    },
    {
      "cell_type": "markdown",
      "metadata": {
        "id": "qBnosCc3iYZr"
      },
      "source": [
        "## Comprobar Convergencia\n",
        "\n",
        "Mediante el uso del radio espectral de una matriz, determina si un sistema de\n",
        "ecuaciones lineales converge a una solución o no.\n",
        "\n",
        "### Argumentos\n",
        "\n",
        "    A: Matriz cuadrada n x n a evaluar\n",
        "\n",
        "### Resultado\n",
        "\n",
        "    valor booleano indicando si el sistema converge a una solución o no"
      ]
    },
    {
      "cell_type": "code",
      "execution_count": null,
      "metadata": {
        "id": "rrf3LABxiYZr"
      },
      "outputs": [],
      "source": [
        "def comprobarConvergenciaSolucion(A):\n",
        "    valores, vectores = np.linalg.eig(A) # determina los valores propios de la matriz\n",
        "    radioEspectral = np.max(np.abs(valores)) # determina el radio espectral de la matriz\n",
        "    print('Radio espectral: ', radioEspectral, 'converge:', radioEspectral <= 1)\n",
        "    return radioEspectral < 1"
      ]
    },
    {
      "cell_type": "markdown",
      "metadata": {
        "id": "IsgPbrMxiYZr"
      },
      "source": [
        "## Método Jacobi para resolver sistemas de ecuaciones lineales\n",
        "\n",
        "Resuelve un sistema de ecuaciones lineales de la forma:\n",
        "\n",
        "$$\n",
        "\\begin{align}\n",
        "a_{11}x_1 + a_{12}x_2 + \\cdots + a_{1n}x_n &= b_1 \\\\\n",
        "a_{21}x_1 + a_{22}x_2 + \\cdots + a_{2n}x_n &= b_2 \\\\\n",
        "\\vdots \\\\\n",
        "a_{m1}x_1 + a_{m2}x_2 + \\cdots + a_{mn}x_n &= b_m\n",
        "\\end{align}\n",
        "$$\n",
        "\n",
        "con $a_{ij}, b_i \\in \\mathbb{R}$ y $x_i \\in \\mathbb{R}$.\n",
        "\n",
        "### Argumentos\n",
        "\n",
        "* $a_{ij}$ es la matriz de coeficientes del sistema.\n",
        "* $b_i$ es el vector de resultados del sistema.\n",
        "* $iteraciones$ es el número de iteraciones que se realizarán.\n",
        "\n",
        "### Resultado\n",
        "\n",
        "* $x_i$ es el vector de soluciones del sistema.\n",
        "\n"
      ]
    },
    {
      "cell_type": "code",
      "execution_count": null,
      "metadata": {
        "id": "ZsrOgxkeiYZr"
      },
      "outputs": [],
      "source": [
        "#\n",
        "def resolverJacobi(A, b, iteraciones):\n",
        "    '''\n",
        "    Resuelve la matriz A de orden n x n mediante el método de Jacobi.\n",
        "\n",
        "    Args:\n",
        "        A (np.array): matriz de orden n x n\n",
        "        b (np.array): vector de orden n\n",
        "        iteraciones (int): número de iteraciones\n",
        "\n",
        "    Returns:\n",
        "        np.array: solución de la matriz A\n",
        "    '''\n",
        "    m, n = A.shape\n",
        "\n",
        "    if(m!=n):\n",
        "        print('La matriz no es cuadrada')\n",
        "        return\n",
        "\n",
        "    # esEstrictamenteDiagonalDominante = comprobarMatrizDiagonalDominante(A, estricto=True)\n",
        "    # print(' es edd', esEstrictamenteDiagonalDominante)\n",
        "    # if(esEstrictamenteDiagonalDominante == False):\n",
        "    #     print('La matriz no es estrictamente diagonal dominante')\n",
        "    #     return\n",
        "\n",
        "    # construcción de parametros para aplicar el metodo de Jacobi\n",
        "    D = np.diagflat([A.diagonal()])\n",
        "    Au = (np.triu(A) - D) * -1\n",
        "    Al = (np.tril(A) - D ) * -1\n",
        "    print(np.matmul(np.linalg.inv(D), (Al + Au)))\n",
        "    if(comprobarConvergenciaSolucion(np.matmul(np.linalg.inv(D), (Al + Au))) == False):\n",
        "        print('La matriz no converge a una solución')\n",
        "        return\n",
        "\n",
        "    x = np.ones(n)\n",
        "\n",
        "    # iteración del método de Jacobi\n",
        "    for n in range(0, iteraciones):\n",
        "        # encontrar x_k+1 mediante la ecuación de Jacobi\n",
        "        x = np.matmul(np.linalg.inv(D), np.matmul(Al + Au, x)) + np.matmul(np.linalg.inv(D), b)\n",
        "\n",
        "    return x\n"
      ]
    },
    {
      "cell_type": "markdown",
      "metadata": {
        "id": "oTtg0vKciYZr"
      },
      "source": [
        "## Método de Gauss-Seidel para resolver sistemas de ecuaciones lineales\n",
        "\n",
        "Resuelve un sistema de ecuaciones lineales de la forma:\n",
        "\n",
        "$$\n",
        "\\begin{align}\n",
        "a_{11}x_1 + a_{12}x_2 + \\cdots + a_{1n}x_n &= b_1 \\\\\n",
        "a_{21}x_1 + a_{22}x_2 + \\cdots + a_{2n}x_n &= b_2 \\\\\n",
        "\\vdots \\\\\n",
        "a_{m1}x_1 + a_{m2}x_2 + \\cdots + a_{mn}x_n &= b_m\n",
        "\\end{align}\n",
        "$$\n",
        "\n",
        "con $a_{ij}, b_i \\in \\mathbb{R}$ y $x_i \\in \\mathbb{R}$.\n",
        "\n",
        "### Argumentos\n",
        "\n",
        "* **$a_{ij}$** es la matriz de coeficientes del sistema.\n",
        "* **$b_i$** es el vector de resultados del sistema.\n",
        "* **$iteraciones$** es el número de iteraciones que se realizarán.\n",
        "\n",
        "### Resultado\n",
        "\n",
        "* **$x_i$** es el vector de soluciones del sistema.\n"
      ]
    },
    {
      "cell_type": "code",
      "execution_count": null,
      "metadata": {
        "id": "dQWocFVKiYZr"
      },
      "outputs": [],
      "source": [
        "def resolverGaussSeidel(A, b, iteraciones):\n",
        "    '''\n",
        "    Resuelve un sistema de ecuaciones lineales mediante el método de Gauss-Seidel.\n",
        "\n",
        "    Args:\n",
        "        A (np.array): Matriz de la ecuación a resolver.\n",
        "        b (np.array): Vector de los constantes de la ecuación.\n",
        "        iteraciones (int): Número de iteraciones del método.\n",
        "\n",
        "    Returns:\n",
        "        np.array: Vector de solución de la ecuación.\n",
        "    '''\n",
        "\n",
        "    m, n = A.shape\n",
        "\n",
        "    if(m!=n):\n",
        "        print('La matriz no es cuadrada')\n",
        "        return\n",
        "\n",
        "    # if(comprobarMatrizDiagonalDominante(A, estricto=True) == False):\n",
        "    #     print('La matriz no es estrictamente diagonal dominante')\n",
        "    #     return\n",
        "\n",
        "    D = np.diagflat([A.diagonal()])\n",
        "    Au = (np.triu(A) - D) * -1\n",
        "    Al = (np.tril(A) - D ) * -1\n",
        "\n",
        "    if(comprobarConvergenciaSolucion(np.matmul(np.linalg.inv(D - Al), Au)) == False):\n",
        "        print('La matriz no converge a una solución')\n",
        "        return\n",
        "\n",
        "    x = np.ones(n)\n",
        "\n",
        "\n",
        "    for n in range(0, iteraciones):\n",
        "        # encontrar solución x_k+1 usando la ecuación de Gauss-Seidel\n",
        "        x = np.matmul(np.linalg.inv(D - Al), np.matmul(Au, x)) + np.matmul(np.linalg.inv(D - Al), b)\n",
        "\n",
        "    return x"
      ]
    },
    {
      "cell_type": "markdown",
      "metadata": {
        "id": "gkaNE3uviYZr"
      },
      "source": [
        "## Método SOR para resolver sistemas de ecuaciones lineales\n",
        "\n",
        "Resuelve un sistema de ecuaciones lineales de la forma:\n",
        "\n",
        "$$\n",
        "\\begin{align}\n",
        "a_{11}x_1 + a_{12}x_2 + \\cdots + a_{1n}x_n &= b_1 \\\\\n",
        "a_{21}x_1 + a_{22}x_2 + \\cdots + a_{2n}x_n &= b_2 \\\\\n",
        "\\vdots \\\\\n",
        "a_{m1}x_1 + a_{m2}x_2 + \\cdots + a_{mn}x_n &= b_m\n",
        "\\end{align}\n",
        "$$\n",
        "\n",
        "con $a_{ij}, b_i \\in \\mathbb{R}$ y $x_i \\in \\mathbb{R}$.\n",
        "\n",
        "### Argumentos\n",
        "\n",
        "- $a_{ij}$ son los coeficientes de la ecuación $i$ en la ecuación $j$.\n",
        "- $b_i$ son los constantes de la ecuación $i$.\n",
        "- $iteraciones$ es el número de iteraciones que se realizarán.\n",
        "- $w$ es el parámetro de relajación para acelerar la convergencia.\n",
        "\n",
        "### Resultado\n",
        "\n",
        "- $x_{k+1}$ es el resultado del sistema de ecuaciones lineales."
      ]
    },
    {
      "cell_type": "code",
      "execution_count": null,
      "metadata": {
        "id": "9O8ZkzTEblFH"
      },
      "outputs": [],
      "source": [
        "def resolverSOR(A, b, iteraciones, w):\n",
        "    '''\n",
        "    Resuelve el sistema de ecuaciones AX = B usando el método de SOR.\n",
        "\n",
        "    Args:\n",
        "        A (array): matriz de la ecuación AX = B\n",
        "        b (array): vector de la ecuación AX = B\n",
        "        iteraciones (int): número de iteraciones\n",
        "        w (float): peso de la matriz diagonal dominante\n",
        "\n",
        "    Returns:\n",
        "        array: vector de la solución de la ecuación AX = B\n",
        "    '''\n",
        "    m, n = A.shape\n",
        "\n",
        "    if(m!=n):\n",
        "        print('La matriz no es cuadrada')\n",
        "        return\n",
        "\n",
        "    # if(comprobarMatrizDiagonalDominante(A, estricto=True) == False):\n",
        "    #     print('La matriz no es estrictamente diagonal dominante')\n",
        "    #     return\n",
        "\n",
        "    # construir los parametros para aplicar el algoritmo de SOR\n",
        "    D = np.diagflat([A.diagonal()])\n",
        "    Au = (np.triu(A) - D) * -1\n",
        "    Al = (np.tril(A) - D ) * -1\n",
        "\n",
        "    if(comprobarConvergenciaSolucion(np.matmul(np.linalg.inv(D - w*Al), w*Au + (1-w)*D)) == False):\n",
        "        print('La matriz no converge a una solución')\n",
        "        return\n",
        "\n",
        "    x = np.ones(n)\n",
        "\n",
        "    for n in range(0, iteraciones):\n",
        "        # calcular la solución x_k+1 de la ecuación AX = B usando el algoritmo de SOR\n",
        "        x = np.matmul(np.linalg.inv(D - w*Al), np.matmul(w*Au + (1-w)*D, x)) + np.matmul(np.linalg.inv(D - w*Al), w*b)\n",
        "\n",
        "    return x"
      ]
    },
    {
      "cell_type": "markdown",
      "metadata": {
        "id": "NEbGj--7blFH"
      },
      "source": [
        "## Ejemplos"
      ]
    },
    {
      "cell_type": "code",
      "execution_count": null,
      "metadata": {
        "colab": {
          "base_uri": "https://localhost:8080/"
        },
        "id": "wdZPzOojblFH",
        "outputId": "fc0e61b7-ff75-45f2-f6de-155b9a68d6ec"
      },
      "outputs": [
        {
          "output_type": "stream",
          "name": "stdout",
          "text": [
            "[[ 5 -1  3]\n",
            " [ 3  6  2]\n",
            " [ 2  2  4]]\n",
            "[-4 11  6]\n",
            "[-1  2  1]\n",
            "Jacobi\n",
            "Radio espectral:  0.7261724292547672 converge: True\n",
            "[-1.  2.  1.]\n",
            "Gauss-Seidel\n",
            "Radio espectral:  0.32062898671428325 converge: True\n",
            "[-1.  2.  1.]\n",
            "SOR\n",
            "Radio espectral:  0.9344363965398466 converge: True\n",
            "[-1.  2.  1.]\n"
          ]
        }
      ],
      "source": [
        "A = np.array([\n",
        "    [5, -1, 3],\n",
        "    [3, 6, 2],\n",
        "    [2, 2, 4]\n",
        "])\n",
        "\n",
        "b = np.array([-4,11,6])\n",
        "x = np.array([-1, 2, 1])\n",
        "\n",
        "print(A)\n",
        "print(b)\n",
        "print(x)\n",
        "\n",
        "print('Jacobi')\n",
        "resultado = resolverJacobi(A, b, 60)\n",
        "print(resultado)\n",
        "print('Gauss-Seidel')\n",
        "resultado = resolverGaussSeidel(A, b, 16)\n",
        "print(resultado)\n",
        "print('SOR')\n",
        "resultado = resolverSOR(A, b, 300, 0.09999999999999)\n",
        "print(resultado)"
      ]
    },
    {
      "cell_type": "code",
      "source": [
        "A = np.array([\n",
        "    [4., 3., 0.],\n",
        "    [3., 4., -1.],\n",
        "    [0., -1., 4.]\n",
        "])\n",
        "\n",
        "b = np.array([24., 30., -24.])\n",
        "x0 = np.array([1., 1., 1.])\n",
        "w= 1.25\n",
        "resultado = resolverSOR(A, b, 100, w)\n",
        "print(resultado)"
      ],
      "metadata": {
        "colab": {
          "base_uri": "https://localhost:8080/"
        },
        "id": "NZxfmY58Dig-",
        "outputId": "d91caa87-ba9e-4cc8-f8ff-3f6ec026a84a"
      },
      "execution_count": null,
      "outputs": [
        {
          "output_type": "stream",
          "name": "stdout",
          "text": [
            "Radio espectral:  0.25 converge: True\n",
            "[ 3.  4. -5.]\n"
          ]
        }
      ]
    },
    {
      "cell_type": "code",
      "source": [
        "Al = np.tril(A, -1)\n",
        "Au = np.triu(A)\n",
        "\n",
        "x1 = np.array([[1.], [1.], [1.]])\n",
        "\n",
        "print(np.matmul(A, x1))\n",
        "print(np.matmul(A, x0))\n",
        "# print(np.matmul(x1, A))\n",
        "print(np.matmul(x0, A))"
      ],
      "metadata": {
        "colab": {
          "base_uri": "https://localhost:8080/"
        },
        "id": "WkiTDIzrE6Pq",
        "outputId": "e1c45679-9000-43a2-bc00-42857f0f04ee"
      },
      "execution_count": null,
      "outputs": [
        {
          "output_type": "stream",
          "name": "stdout",
          "text": [
            "[[7.]\n",
            " [6.]\n",
            " [3.]]\n",
            "[7. 6. 3.]\n",
            "[7. 6. 3.]\n"
          ]
        }
      ]
    },
    {
      "cell_type": "markdown",
      "metadata": {
        "id": "KsJMzRdpblFH"
      },
      "source": [
        "# Practica"
      ]
    },
    {
      "cell_type": "markdown",
      "metadata": {
        "id": "lQMS32_LblFI"
      },
      "source": [
        "## Actividad 1"
      ]
    },
    {
      "cell_type": "markdown",
      "metadata": {
        "id": "P1hzLlaoblFI"
      },
      "source": [
        "### Construcción del sistema\n",
        "\n",
        "Construimos un sistema de ecuaciones de orden m, con m variables, y m condicioness."
      ]
    },
    {
      "cell_type": "code",
      "execution_count": null,
      "metadata": {
        "id": "fJB3h1_oblFI",
        "colab": {
          "base_uri": "https://localhost:8080/"
        },
        "outputId": "38542fe8-bf2e-44dc-c0be-90923654984c"
      },
      "outputs": [
        {
          "output_type": "stream",
          "name": "stdout",
          "text": [
            "A\n",
            "[[ 1. -1.  0. ...  0.  0.  0.]\n",
            " [ 1.  2. -1. ...  0.  0.  0.]\n",
            " [ 0.  1.  3. ...  0.  0.  0.]\n",
            " ...\n",
            " [ 0.  0.  0. ... 48. -1.  0.]\n",
            " [ 0.  0.  0. ...  1. 49. -1.]\n",
            " [ 0.  0.  0. ...  0.  1. 50.]]\n",
            "b\n",
            "[ -1.  -2.  -3.  -4.  -5.  -6.  -7.  -8.  -9. -10. -11. -12. -13. -14.\n",
            " -15. -16. -17. -18. -19. -20. -21. -22. -23. -24. -25. -26. -27. -28.\n",
            " -29. -30. -31. -32. -33. -34. -35. -36. -37. -38. -39. -40. -41. -42.\n",
            " -43. -44. -45. -46. -47. -48. -49. -50.]\n"
          ]
        }
      ],
      "source": [
        "# sistema ejercicio 1\n",
        "m = 50\n",
        "b = np.linspace(1, 50)\n",
        "\n",
        "ones = np.ones(m-1)\n",
        "A = np.zeros((m,m))\n",
        "\n",
        "A = A + np.diagflat([b])\n",
        "A = A - np.diagflat([ones], 1)\n",
        "A = A + np.diagflat([ones], -1)\n",
        "b = b*-1\n",
        "\n",
        "print('A')\n",
        "print(A)\n",
        "print('b')\n",
        "print(b)"
      ]
    },
    {
      "cell_type": "markdown",
      "metadata": {
        "id": "JiPM4msablFI"
      },
      "source": [
        "### Eliminación Gaussiana"
      ]
    },
    {
      "cell_type": "code",
      "execution_count": null,
      "metadata": {
        "id": "j47KvKznblFI",
        "colab": {
          "base_uri": "https://localhost:8080/"
        },
        "outputId": "f8ce873d-9839-4bdb-9b59-cfaef5219ae2"
      },
      "outputs": [
        {
          "output_type": "stream",
          "name": "stdout",
          "text": [
            "Resultado\n",
            "[-1.69777466 -0.69777466 -1.09332397 -0.97774658 -1.00431029 -0.99929804\n",
            " -1.00009854 -0.99998785 -1.00000134 -0.99999987 -1.00000001 -1.\n",
            " -1.         -1.         -1.         -1.         -1.         -1.\n",
            " -1.         -1.         -1.         -1.         -1.         -1.\n",
            " -1.         -1.         -1.         -1.         -1.         -1.\n",
            " -1.         -1.         -1.         -1.         -1.         -1.\n",
            " -1.         -1.         -1.         -1.         -1.         -1.\n",
            " -1.         -1.         -1.         -1.         -0.99999982 -0.99999151\n",
            " -0.99959218 -0.98000816]\n",
            "Comprobación\n",
            "[ -1.  -2.  -3.  -4.  -5.  -6.  -7.  -8.  -9. -10. -11. -12. -13. -14.\n",
            " -15. -16. -17. -18. -19. -20. -21. -22. -23. -24. -25. -26. -27. -28.\n",
            " -29. -30. -31. -32. -33. -34. -35. -36. -37. -38. -39. -40. -41. -42.\n",
            " -43. -44. -45. -46. -47. -48. -49. -50.]\n"
          ]
        }
      ],
      "source": [
        "x = resolverSistemaEliminacionGaussiana(A, b)\n",
        "comprobacion = np.matmul(A, x)\n",
        "\n",
        "print('Resultado')\n",
        "print(x)\n",
        "print('Comprobación')\n",
        "print(comprobacion)"
      ]
    },
    {
      "cell_type": "markdown",
      "metadata": {
        "id": "dOBNz9jBblFI"
      },
      "source": [
        "### Factorización LU"
      ]
    },
    {
      "cell_type": "code",
      "execution_count": null,
      "metadata": {
        "id": "nlX_nCFZblFI",
        "colab": {
          "base_uri": "https://localhost:8080/"
        },
        "outputId": "d80ec383-2f8c-412e-ab8b-cbc4e2670bb0"
      },
      "outputs": [
        {
          "output_type": "stream",
          "name": "stdout",
          "text": [
            "resultado\n",
            "[-1.69777466 -0.69777466 -1.09332397 -0.97774658 -1.00431029 -0.99929804\n",
            " -1.00009854 -0.99998785 -1.00000134 -0.99999987 -1.00000001 -1.\n",
            " -1.         -1.         -1.         -1.         -1.         -1.\n",
            " -1.         -1.         -1.         -1.         -1.         -1.\n",
            " -1.         -1.         -1.         -1.         -1.         -1.\n",
            " -1.         -1.         -1.         -1.         -1.         -1.\n",
            " -1.         -1.         -1.         -1.         -1.         -1.\n",
            " -1.         -1.         -1.         -1.         -0.99999982 -0.99999151\n",
            " -0.99959218 -0.98000816]\n",
            "comprobación\n",
            "[ -1.  -2.  -3.  -4.  -5.  -6.  -7.  -8.  -9. -10. -11. -12. -13. -14.\n",
            " -15. -16. -17. -18. -19. -20. -21. -22. -23. -24. -25. -26. -27. -28.\n",
            " -29. -30. -31. -32. -33. -34. -35. -36. -37. -38. -39. -40. -41. -42.\n",
            " -43. -44. -45. -46. -47. -48. -49. -50.]\n"
          ]
        }
      ],
      "source": [
        "x = resolverSistemaLU(A, b)\n",
        "comprobacion = np.matmul(A, x)\n",
        "\n",
        "print('resultado')\n",
        "print(x)\n",
        "print('comprobación')\n",
        "print(comprobacion)"
      ]
    },
    {
      "cell_type": "markdown",
      "metadata": {
        "id": "m6Njb95wblFI"
      },
      "source": [
        "### Factorización PALU"
      ]
    },
    {
      "cell_type": "code",
      "execution_count": null,
      "metadata": {
        "id": "LqJys7-sblFI",
        "colab": {
          "base_uri": "https://localhost:8080/"
        },
        "outputId": "3dbc65b8-3127-41d9-eb28-fa4c66b5f42f"
      },
      "outputs": [
        {
          "output_type": "stream",
          "name": "stdout",
          "text": [
            "Resultado\n",
            "[-1.69777466 -0.69777466 -1.09332397 -0.97774658 -1.00431029 -0.99929804\n",
            " -1.00009854 -0.99998785 -1.00000134 -0.99999987 -1.00000001 -1.\n",
            " -1.         -1.         -1.         -1.         -1.         -1.\n",
            " -1.         -1.         -1.         -1.         -1.         -1.\n",
            " -1.         -1.         -1.         -1.         -1.         -1.\n",
            " -1.         -1.         -1.         -1.         -1.         -1.\n",
            " -1.         -1.         -1.         -1.         -1.         -1.\n",
            " -1.         -1.         -1.         -1.         -0.99999982 -0.99999151\n",
            " -0.99959218 -0.98000816]\n",
            "Comprobación\n",
            "[ -1.  -2.  -3.  -4.  -5.  -6.  -7.  -8.  -9. -10. -11. -12. -13. -14.\n",
            " -15. -16. -17. -18. -19. -20. -21. -22. -23. -24. -25. -26. -27. -28.\n",
            " -29. -30. -31. -32. -33. -34. -35. -36. -37. -38. -39. -40. -41. -42.\n",
            " -43. -44. -45. -46. -47. -48. -49. -50.]\n"
          ]
        }
      ],
      "source": [
        "x = resolverSistemaPALU(A, b)\n",
        "comprobacion = np.matmul(A, x)\n",
        "\n",
        "print('Resultado')\n",
        "print(x)\n",
        "print('Comprobación')\n",
        "print(comprobacion)"
      ]
    },
    {
      "cell_type": "markdown",
      "metadata": {
        "id": "bVSnsQ31blFJ"
      },
      "source": [
        "### Método de Jacobi"
      ]
    },
    {
      "cell_type": "code",
      "execution_count": null,
      "metadata": {
        "id": "grOAqasZblFJ",
        "colab": {
          "base_uri": "https://localhost:8080/"
        },
        "outputId": "1c632dd4-dae5-4e41-8852-f281b01e2a8d"
      },
      "outputs": [
        {
          "output_type": "stream",
          "name": "stdout",
          "text": [
            "Radio espectral:  0.8316611546312483 converge: True\n",
            "Resultado\n",
            "[-1.69777466 -0.69777466 -1.09332397 -0.97774658 -1.00431029 -0.99929804\n",
            " -1.00009854 -0.99998785 -1.00000134 -0.99999987 -1.00000001 -1.\n",
            " -1.         -1.         -1.         -1.         -1.         -1.\n",
            " -1.         -1.         -1.         -1.         -1.         -1.\n",
            " -1.         -1.         -1.         -1.         -1.         -1.\n",
            " -1.         -1.         -1.         -1.         -1.         -1.\n",
            " -1.         -1.         -1.         -1.         -1.         -1.\n",
            " -1.         -1.         -1.         -1.         -0.99999982 -0.99999151\n",
            " -0.99959218 -0.98000816]\n",
            "Comprobación\n",
            "[ -1.  -2.  -3.  -4.  -5.  -6.  -7.  -8.  -9. -10. -11. -12. -13. -14.\n",
            " -15. -16. -17. -18. -19. -20. -21. -22. -23. -24. -25. -26. -27. -28.\n",
            " -29. -30. -31. -32. -33. -34. -35. -36. -37. -38. -39. -40. -41. -42.\n",
            " -43. -44. -45. -46. -47. -48. -49. -50.]\n"
          ]
        }
      ],
      "source": [
        "x = resolverJacobi(A, b, 110)\n",
        "comprobacion = np.matmul(A, x)\n",
        "\n",
        "print('Resultado')\n",
        "print(x)\n",
        "print('Comprobación')\n",
        "print(comprobacion)"
      ]
    },
    {
      "cell_type": "markdown",
      "metadata": {
        "id": "zZbuCffHblFJ"
      },
      "source": [
        "### Método de Gauss-Siedel"
      ]
    },
    {
      "cell_type": "code",
      "execution_count": null,
      "metadata": {
        "id": "vDmf2s-ZblFJ",
        "colab": {
          "base_uri": "https://localhost:8080/"
        },
        "outputId": "e3967761-4135-4eda-85a5-ea7d9c20f430"
      },
      "outputs": [
        {
          "output_type": "stream",
          "name": "stdout",
          "text": [
            "Radio espectral:  0.6916602761225797 converge: True\n",
            "[-1.69777466 -0.69777466 -1.09332397 -0.97774658 -1.00431029 -0.99929804\n",
            " -1.00009854 -0.99998785 -1.00000134 -0.99999987 -1.00000001 -1.\n",
            " -1.         -1.         -1.         -1.         -1.         -1.\n",
            " -1.         -1.         -1.         -1.         -1.         -1.\n",
            " -1.         -1.         -1.         -1.         -1.         -1.\n",
            " -1.         -1.         -1.         -1.         -1.         -1.\n",
            " -1.         -1.         -1.         -1.         -1.         -1.\n",
            " -1.         -1.         -1.         -1.         -0.99999982 -0.99999151\n",
            " -0.99959218 -0.98000816]\n",
            "[ -1.  -2.  -3.  -4.  -5.  -6.  -7.  -8.  -9. -10. -11. -12. -13. -14.\n",
            " -15. -16. -17. -18. -19. -20. -21. -22. -23. -24. -25. -26. -27. -28.\n",
            " -29. -30. -31. -32. -33. -34. -35. -36. -37. -38. -39. -40. -41. -42.\n",
            " -43. -44. -45. -46. -47. -48. -49. -50.]\n"
          ]
        }
      ],
      "source": [
        "x = resolverGaussSeidel(A, b, 55)\n",
        "comprobacion = np.matmul(A, x)\n",
        "\n",
        "print(x)\n",
        "print(comprobacion)"
      ]
    },
    {
      "cell_type": "markdown",
      "metadata": {
        "id": "aZ6i5ocFblFJ"
      },
      "source": [
        "### Método SOR"
      ]
    },
    {
      "cell_type": "code",
      "execution_count": null,
      "metadata": {
        "id": "16uWJ6l7blFJ",
        "colab": {
          "base_uri": "https://localhost:8080/"
        },
        "outputId": "6a6f4331-dc98-49ad-b05a-63a42d4bc5f8"
      },
      "outputs": [
        {
          "output_type": "stream",
          "name": "stdout",
          "text": [
            "Radio espectral:  0.5000000000000022 converge: True\n",
            "[-1.69777466 -0.69777466 -1.09332397 -0.97774658 -1.00431029 -0.99929804\n",
            " -1.00009854 -0.99998785 -1.00000134 -0.99999987 -1.00000001 -1.\n",
            " -1.         -1.         -1.         -1.         -1.         -1.\n",
            " -1.         -1.         -1.         -1.         -1.         -1.\n",
            " -1.         -1.         -1.         -1.         -1.         -1.\n",
            " -1.         -1.         -1.         -1.         -1.         -1.\n",
            " -1.         -1.         -1.         -1.         -1.         -1.\n",
            " -1.         -1.         -1.         -1.         -0.99999982 -0.99999151\n",
            " -0.99959218 -0.98000816]\n",
            "[ -1.  -2.  -3.  -4.  -5.  -6.  -7.  -8.  -9. -10. -11. -12. -13. -14.\n",
            " -15. -16. -17. -18. -19. -20. -21. -22. -23. -24. -25. -26. -27. -28.\n",
            " -29. -30. -31. -32. -33. -34. -35. -36. -37. -38. -39. -40. -41. -42.\n",
            " -43. -44. -45. -46. -47. -48. -49. -50.]\n"
          ]
        }
      ],
      "source": [
        "x = resolverSOR(A, b, 45, 0.5)\n",
        "comprobacion = np.matmul(A, x)\n",
        "\n",
        "print(x)\n",
        "print(comprobacion)"
      ]
    },
    {
      "cell_type": "markdown",
      "metadata": {
        "id": "fc29oT-NblFJ"
      },
      "source": [
        "## Actividad 2"
      ]
    },
    {
      "cell_type": "markdown",
      "metadata": {
        "id": "_ODyPP0hblFJ"
      },
      "source": [
        "### construcción del sistema"
      ]
    },
    {
      "cell_type": "code",
      "execution_count": null,
      "metadata": {
        "id": "WZAaUDz9blFJ",
        "colab": {
          "base_uri": "https://localhost:8080/"
        },
        "outputId": "5d4844bb-43a9-4a20-c43f-be371bbc5f76"
      },
      "outputs": [
        {
          "output_type": "stream",
          "name": "stdout",
          "text": [
            "A\n",
            "[[ 1. -1.  0. ...  0.  0. -1.]\n",
            " [ 2.  2.  0. ...  0.  0.  0.]\n",
            " [ 3.  0.  3. ...  0.  0.  0.]\n",
            " ...\n",
            " [48.  0.  0. ... 48.  0.  0.]\n",
            " [49.  0.  0. ...  0. 49.  0.]\n",
            " [50.  0.  0. ...  0.  0. 50.]]\n",
            "b\n",
            "[ 1.  2.  3.  4.  5.  6.  7.  8.  9. 10. 11. 12. 13. 14. 15. 16. 17. 18.\n",
            " 19. 20. 21. 22. 23. 24. 25. 26. 27. 28. 29. 30. 31. 32. 33. 34. 35. 36.\n",
            " 37. 38. 39. 40. 41. 42. 43. 44. 45. 46. 47. 48. 49. 50.]\n"
          ]
        }
      ],
      "source": [
        "# Sistema ejercicio 2\n",
        "\n",
        "A = np.zeros((m,m))\n",
        "b = np.linspace(1, 50)\n",
        "A = A + np.diagflat([b])\n",
        "A[:, 0] = b\n",
        "A[0, 1] = -1\n",
        "A[0,m-1] = -1\n",
        "print('A')\n",
        "print(A)\n",
        "print('b')\n",
        "print(b)"
      ]
    },
    {
      "cell_type": "markdown",
      "metadata": {
        "id": "p65K4NBNbyhn"
      },
      "source": [
        "### Eliminación Gaussiana"
      ]
    },
    {
      "cell_type": "code",
      "execution_count": null,
      "metadata": {
        "id": "lAuhb8gubyhu",
        "colab": {
          "base_uri": "https://localhost:8080/"
        },
        "outputId": "c990f703-c96b-456d-970f-45319d0ae6ce"
      },
      "outputs": [
        {
          "output_type": "stream",
          "name": "stdout",
          "text": [
            "[ 1.00000000e+00  0.00000000e+00  0.00000000e+00  0.00000000e+00\n",
            "  0.00000000e+00  0.00000000e+00 -1.26882631e-16  0.00000000e+00\n",
            "  0.00000000e+00  0.00000000e+00  0.00000000e+00  0.00000000e+00\n",
            "  0.00000000e+00 -1.26882631e-16  0.00000000e+00  0.00000000e+00\n",
            "  0.00000000e+00  0.00000000e+00  0.00000000e+00  0.00000000e+00\n",
            "  0.00000000e+00  0.00000000e+00  0.00000000e+00  0.00000000e+00\n",
            "  0.00000000e+00  0.00000000e+00  0.00000000e+00 -1.26882631e-16\n",
            "  1.22507368e-16  0.00000000e+00  0.00000000e+00  0.00000000e+00\n",
            "  0.00000000e+00  0.00000000e+00  0.00000000e+00  0.00000000e+00\n",
            "  0.00000000e+00  0.00000000e+00  0.00000000e+00  0.00000000e+00\n",
            "  0.00000000e+00  0.00000000e+00  0.00000000e+00  0.00000000e+00\n",
            "  0.00000000e+00  0.00000000e+00  0.00000000e+00  0.00000000e+00\n",
            "  0.00000000e+00 -0.00000000e+00]\n",
            "[ 1.  2.  3.  4.  5.  6.  7.  8.  9. 10. 11. 12. 13. 14. 15. 16. 17. 18.\n",
            " 19. 20. 21. 22. 23. 24. 25. 26. 27. 28. 29. 30. 31. 32. 33. 34. 35. 36.\n",
            " 37. 38. 39. 40. 41. 42. 43. 44. 45. 46. 47. 48. 49. 50.]\n"
          ]
        }
      ],
      "source": [
        "x = resolverSistemaEliminacionGaussiana(A, b)\n",
        "comprobacion = np.matmul(A, x)\n",
        "\n",
        "print(x)\n",
        "print(comprobacion)"
      ]
    },
    {
      "cell_type": "markdown",
      "metadata": {
        "id": "cMroqNc0byhu"
      },
      "source": [
        "### Factorización LU"
      ]
    },
    {
      "cell_type": "code",
      "execution_count": null,
      "metadata": {
        "id": "wwFs8Fm0byhv",
        "colab": {
          "base_uri": "https://localhost:8080/"
        },
        "outputId": "6b27b3a9-b6ad-4f16-b5ee-edf42f17c19d"
      },
      "outputs": [
        {
          "output_type": "stream",
          "name": "stdout",
          "text": [
            "[1. 0. 0. 0. 0. 0. 0. 0. 0. 0. 0. 0. 0. 0. 0. 0. 0. 0. 0. 0. 0. 0. 0. 0.\n",
            " 0. 0. 0. 0. 0. 0. 0. 0. 0. 0. 0. 0. 0. 0. 0. 0. 0. 0. 0. 0. 0. 0. 0. 0.\n",
            " 0. 0.]\n",
            "[ 1.  2.  3.  4.  5.  6.  7.  8.  9. 10. 11. 12. 13. 14. 15. 16. 17. 18.\n",
            " 19. 20. 21. 22. 23. 24. 25. 26. 27. 28. 29. 30. 31. 32. 33. 34. 35. 36.\n",
            " 37. 38. 39. 40. 41. 42. 43. 44. 45. 46. 47. 48. 49. 50.]\n"
          ]
        }
      ],
      "source": [
        "x = resolverSistemaLU(A, b)\n",
        "comprobacion = np.matmul(A, x)\n",
        "\n",
        "print(x)\n",
        "print(comprobacion)"
      ]
    },
    {
      "cell_type": "markdown",
      "metadata": {
        "id": "FhbJ89Gpbyhv"
      },
      "source": [
        "### Factorización PALU"
      ]
    },
    {
      "cell_type": "code",
      "execution_count": null,
      "metadata": {
        "id": "a0P8kw2abyhv",
        "colab": {
          "base_uri": "https://localhost:8080/"
        },
        "outputId": "e2f9a11e-3d7d-41f9-b890-8865c4aeb4af"
      },
      "outputs": [
        {
          "output_type": "stream",
          "name": "stdout",
          "text": [
            "[ 1.00000000e+00  0.00000000e+00  0.00000000e+00  0.00000000e+00\n",
            "  0.00000000e+00  0.00000000e+00 -1.26882631e-16  0.00000000e+00\n",
            "  0.00000000e+00  0.00000000e+00  0.00000000e+00  0.00000000e+00\n",
            "  0.00000000e+00 -1.26882631e-16  0.00000000e+00  0.00000000e+00\n",
            "  0.00000000e+00  0.00000000e+00  0.00000000e+00  0.00000000e+00\n",
            "  0.00000000e+00  0.00000000e+00  0.00000000e+00  0.00000000e+00\n",
            "  0.00000000e+00  0.00000000e+00  0.00000000e+00 -1.26882631e-16\n",
            "  1.22507368e-16  0.00000000e+00  0.00000000e+00  0.00000000e+00\n",
            "  0.00000000e+00  0.00000000e+00  0.00000000e+00  0.00000000e+00\n",
            "  0.00000000e+00  0.00000000e+00  0.00000000e+00  0.00000000e+00\n",
            "  0.00000000e+00  0.00000000e+00  0.00000000e+00  0.00000000e+00\n",
            "  0.00000000e+00  0.00000000e+00  0.00000000e+00  0.00000000e+00\n",
            "  0.00000000e+00 -0.00000000e+00]\n",
            "[ 1.  2.  3.  4.  5.  6.  7.  8.  9. 10. 11. 12. 13. 14. 15. 16. 17. 18.\n",
            " 19. 20. 21. 22. 23. 24. 25. 26. 27. 28. 29. 30. 31. 32. 33. 34. 35. 36.\n",
            " 37. 38. 39. 40. 41. 42. 43. 44. 45. 46. 47. 48. 49. 50.]\n"
          ]
        }
      ],
      "source": [
        "x = resolverSistemaPALU(A, b)\n",
        "comprobacion = np.matmul(A, x)\n",
        "\n",
        "print(x)\n",
        "print(comprobacion)"
      ]
    },
    {
      "cell_type": "markdown",
      "metadata": {
        "id": "RybJ6StGbyhv"
      },
      "source": [
        "### Método de Jacobi"
      ]
    },
    {
      "cell_type": "code",
      "execution_count": null,
      "metadata": {
        "id": "EUYKgqUGbyhv",
        "colab": {
          "base_uri": "https://localhost:8080/",
          "height": 255
        },
        "outputId": "3349413e-9ffd-40ee-a43d-c6e3637bbc00"
      },
      "outputs": [
        {
          "output_type": "stream",
          "name": "stdout",
          "text": [
            "Radio espectral:  1.4142135623730965 converge: False\n",
            "La matriz no converge a una solución\n"
          ]
        },
        {
          "output_type": "error",
          "ename": "ValueError",
          "evalue": "matmul: Input operand 1 does not have enough dimensions (has 0, gufunc core with signature (n?,k),(k,m?)->(n?,m?) requires 1)",
          "traceback": [
            "\u001b[0;31m---------------------------------------------------------------------------\u001b[0m",
            "\u001b[0;31mValueError\u001b[0m                                Traceback (most recent call last)",
            "\u001b[0;32m<ipython-input-53-83e797ad7303>\u001b[0m in \u001b[0;36m<cell line: 2>\u001b[0;34m()\u001b[0m\n\u001b[1;32m      1\u001b[0m \u001b[0mx\u001b[0m \u001b[0;34m=\u001b[0m \u001b[0mresolverJacobi\u001b[0m\u001b[0;34m(\u001b[0m\u001b[0mA\u001b[0m\u001b[0;34m,\u001b[0m \u001b[0mb\u001b[0m\u001b[0;34m,\u001b[0m \u001b[0;36m100\u001b[0m\u001b[0;34m)\u001b[0m\u001b[0;34m\u001b[0m\u001b[0;34m\u001b[0m\u001b[0m\n\u001b[0;32m----> 2\u001b[0;31m \u001b[0mcomprobacion\u001b[0m \u001b[0;34m=\u001b[0m \u001b[0mnp\u001b[0m\u001b[0;34m.\u001b[0m\u001b[0mmatmul\u001b[0m\u001b[0;34m(\u001b[0m\u001b[0mA\u001b[0m\u001b[0;34m,\u001b[0m \u001b[0mx\u001b[0m\u001b[0;34m)\u001b[0m\u001b[0;34m\u001b[0m\u001b[0;34m\u001b[0m\u001b[0m\n\u001b[0m\u001b[1;32m      3\u001b[0m \u001b[0;34m\u001b[0m\u001b[0m\n\u001b[1;32m      4\u001b[0m \u001b[0mprint\u001b[0m\u001b[0;34m(\u001b[0m\u001b[0mx\u001b[0m\u001b[0;34m)\u001b[0m\u001b[0;34m\u001b[0m\u001b[0;34m\u001b[0m\u001b[0m\n\u001b[1;32m      5\u001b[0m \u001b[0mprint\u001b[0m\u001b[0;34m(\u001b[0m\u001b[0mcomprobacion\u001b[0m\u001b[0;34m)\u001b[0m\u001b[0;34m\u001b[0m\u001b[0;34m\u001b[0m\u001b[0m\n",
            "\u001b[0;31mValueError\u001b[0m: matmul: Input operand 1 does not have enough dimensions (has 0, gufunc core with signature (n?,k),(k,m?)->(n?,m?) requires 1)"
          ]
        }
      ],
      "source": [
        "x = resolverJacobi(A, b, 100)\n",
        "comprobacion = np.matmul(A, x)\n",
        "\n",
        "print(x)\n",
        "print(comprobacion)"
      ]
    },
    {
      "cell_type": "markdown",
      "metadata": {
        "id": "o9PPWxHcbyhw"
      },
      "source": [
        "### Método de Gauss-Siedel"
      ]
    },
    {
      "cell_type": "code",
      "execution_count": null,
      "metadata": {
        "id": "Q3BzhF9jbyhw",
        "colab": {
          "base_uri": "https://localhost:8080/",
          "height": 255
        },
        "outputId": "e12e2c5a-727e-4e68-fb26-18b8d694abda"
      },
      "outputs": [
        {
          "output_type": "stream",
          "name": "stdout",
          "text": [
            "Radio espectral:  2.0 converge: False\n",
            "La matriz no converge a una solución\n"
          ]
        },
        {
          "output_type": "error",
          "ename": "ValueError",
          "evalue": "matmul: Input operand 1 does not have enough dimensions (has 0, gufunc core with signature (n?,k),(k,m?)->(n?,m?) requires 1)",
          "traceback": [
            "\u001b[0;31m---------------------------------------------------------------------------\u001b[0m",
            "\u001b[0;31mValueError\u001b[0m                                Traceback (most recent call last)",
            "\u001b[0;32m<ipython-input-54-a607106970c0>\u001b[0m in \u001b[0;36m<cell line: 2>\u001b[0;34m()\u001b[0m\n\u001b[1;32m      1\u001b[0m \u001b[0mx\u001b[0m \u001b[0;34m=\u001b[0m \u001b[0mresolverGaussSeidel\u001b[0m\u001b[0;34m(\u001b[0m\u001b[0mA\u001b[0m\u001b[0;34m,\u001b[0m \u001b[0mb\u001b[0m\u001b[0;34m,\u001b[0m \u001b[0;36m50\u001b[0m\u001b[0;34m)\u001b[0m\u001b[0;34m\u001b[0m\u001b[0;34m\u001b[0m\u001b[0m\n\u001b[0;32m----> 2\u001b[0;31m \u001b[0mcomprobacion\u001b[0m \u001b[0;34m=\u001b[0m \u001b[0mnp\u001b[0m\u001b[0;34m.\u001b[0m\u001b[0mmatmul\u001b[0m\u001b[0;34m(\u001b[0m\u001b[0mA\u001b[0m\u001b[0;34m,\u001b[0m \u001b[0mx\u001b[0m\u001b[0;34m)\u001b[0m\u001b[0;34m\u001b[0m\u001b[0;34m\u001b[0m\u001b[0m\n\u001b[0m\u001b[1;32m      3\u001b[0m \u001b[0;34m\u001b[0m\u001b[0m\n\u001b[1;32m      4\u001b[0m \u001b[0mprint\u001b[0m\u001b[0;34m(\u001b[0m\u001b[0mx\u001b[0m\u001b[0;34m)\u001b[0m\u001b[0;34m\u001b[0m\u001b[0;34m\u001b[0m\u001b[0m\n\u001b[1;32m      5\u001b[0m \u001b[0mprint\u001b[0m\u001b[0;34m(\u001b[0m\u001b[0mcomprobacion\u001b[0m\u001b[0;34m)\u001b[0m\u001b[0;34m\u001b[0m\u001b[0;34m\u001b[0m\u001b[0m\n",
            "\u001b[0;31mValueError\u001b[0m: matmul: Input operand 1 does not have enough dimensions (has 0, gufunc core with signature (n?,k),(k,m?)->(n?,m?) requires 1)"
          ]
        }
      ],
      "source": [
        "x = resolverGaussSeidel(A, b, 50)\n",
        "comprobacion = np.matmul(A, x)\n",
        "\n",
        "print(x)\n",
        "print(comprobacion)"
      ]
    },
    {
      "cell_type": "markdown",
      "metadata": {
        "id": "US_es94zbyhw"
      },
      "source": [
        "### Método SOR"
      ]
    },
    {
      "cell_type": "markdown",
      "metadata": {
        "id": "QKZ4Hx3EiYZx"
      },
      "source": [
        "Eligiendo W = 1:"
      ]
    },
    {
      "cell_type": "code",
      "execution_count": null,
      "metadata": {
        "id": "sIgkq8x7iYZx",
        "colab": {
          "base_uri": "https://localhost:8080/",
          "height": 255
        },
        "outputId": "0d89f09f-b5ec-46ca-db5c-9de448c02def"
      },
      "outputs": [
        {
          "output_type": "stream",
          "name": "stdout",
          "text": [
            "Radio espectral:  2.0 converge: False\n",
            "La matriz no converge a una solución\n"
          ]
        },
        {
          "output_type": "error",
          "ename": "ValueError",
          "evalue": "matmul: Input operand 1 does not have enough dimensions (has 0, gufunc core with signature (n?,k),(k,m?)->(n?,m?) requires 1)",
          "traceback": [
            "\u001b[0;31m---------------------------------------------------------------------------\u001b[0m",
            "\u001b[0;31mValueError\u001b[0m                                Traceback (most recent call last)",
            "\u001b[0;32m<ipython-input-55-39f6b7a3de78>\u001b[0m in \u001b[0;36m<cell line: 2>\u001b[0;34m()\u001b[0m\n\u001b[1;32m      1\u001b[0m \u001b[0mx\u001b[0m \u001b[0;34m=\u001b[0m \u001b[0mresolverSOR\u001b[0m\u001b[0;34m(\u001b[0m\u001b[0mA\u001b[0m\u001b[0;34m,\u001b[0m \u001b[0mb\u001b[0m\u001b[0;34m,\u001b[0m \u001b[0;36m55\u001b[0m\u001b[0;34m,\u001b[0m \u001b[0;36m1\u001b[0m\u001b[0;34m)\u001b[0m\u001b[0;34m\u001b[0m\u001b[0;34m\u001b[0m\u001b[0m\n\u001b[0;32m----> 2\u001b[0;31m \u001b[0mcomprobacion\u001b[0m \u001b[0;34m=\u001b[0m \u001b[0mnp\u001b[0m\u001b[0;34m.\u001b[0m\u001b[0mmatmul\u001b[0m\u001b[0;34m(\u001b[0m\u001b[0mA\u001b[0m\u001b[0;34m,\u001b[0m \u001b[0mx\u001b[0m\u001b[0;34m)\u001b[0m\u001b[0;34m\u001b[0m\u001b[0;34m\u001b[0m\u001b[0m\n\u001b[0m\u001b[1;32m      3\u001b[0m \u001b[0;34m\u001b[0m\u001b[0m\n\u001b[1;32m      4\u001b[0m \u001b[0mprint\u001b[0m\u001b[0;34m(\u001b[0m\u001b[0mx\u001b[0m\u001b[0;34m)\u001b[0m\u001b[0;34m\u001b[0m\u001b[0;34m\u001b[0m\u001b[0m\n\u001b[1;32m      5\u001b[0m \u001b[0mprint\u001b[0m\u001b[0;34m(\u001b[0m\u001b[0mcomprobacion\u001b[0m\u001b[0;34m)\u001b[0m\u001b[0;34m\u001b[0m\u001b[0;34m\u001b[0m\u001b[0m\n",
            "\u001b[0;31mValueError\u001b[0m: matmul: Input operand 1 does not have enough dimensions (has 0, gufunc core with signature (n?,k),(k,m?)->(n?,m?) requires 1)"
          ]
        }
      ],
      "source": [
        "x = resolverSOR(A, b, 55, 1)\n",
        "comprobacion = np.matmul(A, x)\n",
        "\n",
        "print(x)\n",
        "print(comprobacion)\n"
      ]
    },
    {
      "cell_type": "markdown",
      "metadata": {
        "id": "0TP0JvM7iYZy"
      },
      "source": [
        "Eligiendo W = 0.828"
      ]
    },
    {
      "cell_type": "code",
      "execution_count": null,
      "metadata": {
        "id": "nT6AdtFViYZy",
        "colab": {
          "base_uri": "https://localhost:8080/"
        },
        "outputId": "9f4deade-d920-4eab-9d5d-beac3bcb90ba"
      },
      "outputs": [
        {
          "output_type": "stream",
          "name": "stdout",
          "text": [
            "Radio espectral:  0.9975101566148298 converge: True\n",
            "Solución\n",
            "[0.96 0.03 0.03 0.03 0.03 0.03 0.03 0.03 0.03 0.03 0.03 0.03 0.03 0.03\n",
            " 0.03 0.03 0.03 0.03 0.03 0.03 0.03 0.03 0.03 0.03 0.03 0.03 0.03 0.03\n",
            " 0.03 0.03 0.03 0.03 0.03 0.03 0.03 0.03 0.03 0.03 0.03 0.03 0.03 0.03\n",
            " 0.03 0.03 0.03 0.03 0.03 0.03 0.03 0.03]\n",
            "Comprobación\n",
            "[ 0.91  1.98  2.97  3.96  4.95  5.94  6.93  7.92  8.91  9.89 10.88 11.87\n",
            " 12.86 13.85 14.84 15.83 16.82 17.81 18.8  19.79 20.78 21.77 22.76 23.75\n",
            " 24.74 25.73 26.72 27.7  28.69 29.68 30.67 31.66 32.65 33.64 34.63 35.62\n",
            " 36.61 37.6  38.59 39.58 40.57 41.56 42.55 43.54 44.53 45.51 46.5  47.49\n",
            " 48.48 49.47]\n"
          ]
        }
      ],
      "source": [
        "x = resolverSOR(A, b, 1550, 0.828)\n",
        "comprobacion = np.matmul(A, x)\n",
        "\n",
        "print('Solución')\n",
        "print(np.round(x, 2))\n",
        "print('Comprobación')\n",
        "print(np.round(comprobacion, 2))"
      ]
    },
    {
      "cell_type": "code",
      "execution_count": null,
      "metadata": {
        "id": "S6x_FSrzbyhw",
        "colab": {
          "base_uri": "https://localhost:8080/"
        },
        "outputId": "15d90283-88fb-42a5-ae8c-8e29fc8319d7"
      },
      "outputs": [
        {
          "output_type": "stream",
          "name": "stdout",
          "text": [
            "Radio espectral:  0.5720000000000004 converge: True\n",
            "[ 1.00000000e+00 -7.16093851e-15 -7.16093851e-15 -7.16093851e-15\n",
            " -7.32747196e-15 -7.16093851e-15 -7.29971639e-15 -7.16093851e-15\n",
            " -7.21644966e-15 -7.32747196e-15 -7.32747196e-15 -7.16093851e-15\n",
            " -7.10542736e-15 -7.29971639e-15 -7.29971639e-15 -7.16093851e-15\n",
            " -7.16093851e-15 -7.29971639e-15 -7.21644966e-15 -7.32747196e-15\n",
            " -7.10542736e-15 -7.32747196e-15 -7.21644966e-15 -7.16093851e-15\n",
            " -7.29971639e-15 -7.02216063e-15 -7.21644966e-15 -7.29971639e-15\n",
            " -7.21644966e-15 -7.29971639e-15 -7.21644966e-15 -7.16093851e-15\n",
            " -7.41073869e-15 -7.16093851e-15 -7.10542736e-15 -7.29971639e-15\n",
            " -7.41073869e-15 -7.21644966e-15 -7.29971639e-15 -7.32747196e-15\n",
            " -7.35522754e-15 -7.16093851e-15 -7.16093851e-15 -7.32747196e-15\n",
            " -7.35522754e-15 -7.21644966e-15 -7.10542736e-15 -7.16093851e-15\n",
            " -7.29971639e-15 -7.16093851e-15]\n",
            "[ 1.  2.  3.  4.  5.  6.  7.  8.  9. 10. 11. 12. 13. 14. 15. 16. 17. 18.\n",
            " 19. 20. 21. 22. 23. 24. 25. 26. 27. 28. 29. 30. 31. 32. 33. 34. 35. 36.\n",
            " 37. 38. 39. 40. 41. 42. 43. 44. 45. 46. 47. 48. 49. 50.]\n"
          ]
        }
      ],
      "source": [
        "x = resolverSOR(A, b, 55, 0.428)\n",
        "comprobacion = np.matmul(A, x)\n",
        "\n",
        "print(x)\n",
        "print(comprobacion)"
      ]
    },
    {
      "cell_type": "markdown",
      "source": [
        "## Problema Evaluación"
      ],
      "metadata": {
        "id": "9MOdPMfAXEAV"
      }
    },
    {
      "cell_type": "code",
      "source": [
        "A = np.array([\n",
        "    [5.3, 2.3, 4.6, 2.7, 1.6, 2.2],\n",
        "    [2.4, 7.8, 5.7, 8.4, 3.4, 4.2],\n",
        "    [3.4, 5.6, 2.4, 1.7, 7.4, 3.9],\n",
        "    [8.3, 7.5, 9.2, 6.1, 5.2, 7.9],\n",
        "    [4.3,5.9,7.2,2.6,4.9,8.0],\n",
        "    [9.0,2.7,4.9,4.8,6.7,4.9]\n",
        "\n",
        "])\n",
        "\n",
        "b = np.array([15.590, 44.020, 18.050, 43.960, 28.240, 34.490])\n",
        "\n",
        "print(A)\n",
        "print(b)"
      ],
      "metadata": {
        "colab": {
          "base_uri": "https://localhost:8080/"
        },
        "id": "LSaokX2BXJhh",
        "outputId": "9bdd99d1-6b1f-4b47-bf63-70d52073e166"
      },
      "execution_count": null,
      "outputs": [
        {
          "output_type": "stream",
          "name": "stdout",
          "text": [
            "[[5.3 2.3 4.6 2.7 1.6 2.2]\n",
            " [2.4 7.8 5.7 8.4 3.4 4.2]\n",
            " [3.4 5.6 2.4 1.7 7.4 3.9]\n",
            " [8.3 7.5 9.2 6.1 5.2 7.9]\n",
            " [4.3 5.9 7.2 2.6 4.9 8. ]\n",
            " [9.  2.7 4.9 4.8 6.7 4.9]]\n",
            "[15.59 44.02 18.05 43.96 28.24 34.49]\n"
          ]
        }
      ]
    },
    {
      "cell_type": "code",
      "source": [
        "x = resolverSistemaEliminacionGaussiana(A, b)\n",
        "comprobacion = np.matmul(A, x)\n",
        "\n",
        "print('resultado x:')\n",
        "print(x)\n",
        "print('comprobación:')\n",
        "print(comprobacion)"
      ],
      "metadata": {
        "colab": {
          "base_uri": "https://localhost:8080/"
        },
        "id": "8DdpPN46X97p",
        "outputId": "2d99a7f7-b22e-4d07-cbf2-7cdc8ca5ddac"
      },
      "execution_count": null,
      "outputs": [
        {
          "output_type": "stream",
          "name": "stdout",
          "text": [
            "resultado x:\n",
            "[ 1.   0.5 -2.   4.4 -0.5  3.3]\n",
            "comprobación:\n",
            "[15.59 44.02 18.05 43.96 28.24 34.49]\n"
          ]
        }
      ]
    },
    {
      "cell_type": "code",
      "source": [
        "x = resolverSistemaLU(A, b)\n",
        "comprobacion = np.matmul(A, x)\n",
        "\n",
        "print('resultado x:')\n",
        "print(x)\n",
        "print('comprobación:')\n",
        "print(comprobacion)"
      ],
      "metadata": {
        "colab": {
          "base_uri": "https://localhost:8080/"
        },
        "id": "XP-vX8DfYUwA",
        "outputId": "28a02233-049c-4068-db2d-f4cfc32c9ccf"
      },
      "execution_count": null,
      "outputs": [
        {
          "output_type": "stream",
          "name": "stdout",
          "text": [
            "resultado x:\n",
            "[ 1.   0.5 -2.   4.4 -0.5  3.3]\n",
            "comprobación:\n",
            "[15.59 44.02 18.05 43.96 28.24 34.49]\n"
          ]
        }
      ]
    },
    {
      "cell_type": "code",
      "source": [
        "x = resolverSistemaPALU(A, b)\n",
        "comprobacion = np.matmul(A, x)\n",
        "print('resultado x:')\n",
        "print(x)\n",
        "print('comprobación:')\n",
        "print(comprobacion)"
      ],
      "metadata": {
        "colab": {
          "base_uri": "https://localhost:8080/"
        },
        "id": "w4uTVQmqYXJn",
        "outputId": "0e82f6d4-f004-4df6-e21f-e448e3bd4fbe"
      },
      "execution_count": null,
      "outputs": [
        {
          "output_type": "stream",
          "name": "stdout",
          "text": [
            "resultado x:\n",
            "[ 1.   0.5 -2.   4.4 -0.5  3.3]\n",
            "comprobación:\n",
            "[15.59 44.02 18.05 43.96 28.24 34.49]\n"
          ]
        }
      ]
    },
    {
      "cell_type": "code",
      "source": [
        "# print(A)\n",
        "x = resolverJacobi(A, b, 100)\n",
        "comprobacion = np.matmul(A, x)\n",
        "\n",
        "print('resultado x:')\n",
        "print(x)\n",
        "print('comprobación:')\n",
        "print(comprobacion)"
      ],
      "metadata": {
        "colab": {
          "base_uri": "https://localhost:8080/",
          "height": 364
        },
        "id": "A8UeiUv8YuRo",
        "outputId": "eb5fa62d-0fd4-4a33-d698-2c5b1d24b9ae"
      },
      "execution_count": null,
      "outputs": [
        {
          "output_type": "stream",
          "name": "stdout",
          "text": [
            "[[ 0.         -0.43396226 -0.86792453 -0.50943396 -0.30188679 -0.41509434]\n",
            " [-0.30769231  0.         -0.73076923 -1.07692308 -0.43589744 -0.53846154]\n",
            " [-1.41666667 -2.33333333  0.         -0.70833333 -3.08333333 -1.625     ]\n",
            " [-1.36065574 -1.2295082  -1.50819672  0.         -0.85245902 -1.29508197]\n",
            " [-0.87755102 -1.20408163 -1.46938776 -0.53061224  0.         -1.63265306]\n",
            " [-1.83673469 -0.55102041 -1.         -0.97959184 -1.36734694  0.        ]]\n",
            "Radio espectral:  5.350300193430739 converge: False\n",
            "La matriz no converge a una solución\n"
          ]
        },
        {
          "output_type": "error",
          "ename": "ValueError",
          "evalue": "matmul: Input operand 1 does not have enough dimensions (has 0, gufunc core with signature (n?,k),(k,m?)->(n?,m?) requires 1)",
          "traceback": [
            "\u001b[0;31m---------------------------------------------------------------------------\u001b[0m",
            "\u001b[0;31mValueError\u001b[0m                                Traceback (most recent call last)",
            "\u001b[0;32m<ipython-input-82-ee0f0d5fb93a>\u001b[0m in \u001b[0;36m<cell line: 3>\u001b[0;34m()\u001b[0m\n\u001b[1;32m      1\u001b[0m \u001b[0;31m# print(A)\u001b[0m\u001b[0;34m\u001b[0m\u001b[0;34m\u001b[0m\u001b[0m\n\u001b[1;32m      2\u001b[0m \u001b[0mx\u001b[0m \u001b[0;34m=\u001b[0m \u001b[0mresolverJacobi\u001b[0m\u001b[0;34m(\u001b[0m\u001b[0mA\u001b[0m\u001b[0;34m,\u001b[0m \u001b[0mb\u001b[0m\u001b[0;34m,\u001b[0m \u001b[0;36m100\u001b[0m\u001b[0;34m)\u001b[0m\u001b[0;34m\u001b[0m\u001b[0;34m\u001b[0m\u001b[0m\n\u001b[0;32m----> 3\u001b[0;31m \u001b[0mcomprobacion\u001b[0m \u001b[0;34m=\u001b[0m \u001b[0mnp\u001b[0m\u001b[0;34m.\u001b[0m\u001b[0mmatmul\u001b[0m\u001b[0;34m(\u001b[0m\u001b[0mA\u001b[0m\u001b[0;34m,\u001b[0m \u001b[0mx\u001b[0m\u001b[0;34m)\u001b[0m\u001b[0;34m\u001b[0m\u001b[0;34m\u001b[0m\u001b[0m\n\u001b[0m\u001b[1;32m      4\u001b[0m \u001b[0;34m\u001b[0m\u001b[0m\n\u001b[1;32m      5\u001b[0m \u001b[0mprint\u001b[0m\u001b[0;34m(\u001b[0m\u001b[0;34m'resultado x:'\u001b[0m\u001b[0;34m)\u001b[0m\u001b[0;34m\u001b[0m\u001b[0;34m\u001b[0m\u001b[0m\n",
            "\u001b[0;31mValueError\u001b[0m: matmul: Input operand 1 does not have enough dimensions (has 0, gufunc core with signature (n?,k),(k,m?)->(n?,m?) requires 1)"
          ]
        }
      ]
    },
    {
      "cell_type": "code",
      "source": [
        "x = resolverGaussSeidel(A, b, 50)\n",
        "comprobacion = np.matmul(A, x)\n",
        "\n",
        "print('resultado x:')\n",
        "print(x)\n",
        "print('comprobación:')\n",
        "print(comprobacion)"
      ],
      "metadata": {
        "colab": {
          "base_uri": "https://localhost:8080/",
          "height": 255
        },
        "id": "bH2DhWQEYx3_",
        "outputId": "101712cb-be69-4d71-d870-b99321d2a72b"
      },
      "execution_count": null,
      "outputs": [
        {
          "output_type": "stream",
          "name": "stdout",
          "text": [
            "Radio espectral:  2.7287055469547736 converge: False\n",
            "La matriz no converge a una solución\n"
          ]
        },
        {
          "output_type": "error",
          "ename": "ValueError",
          "evalue": "matmul: Input operand 1 does not have enough dimensions (has 0, gufunc core with signature (n?,k),(k,m?)->(n?,m?) requires 1)",
          "traceback": [
            "\u001b[0;31m---------------------------------------------------------------------------\u001b[0m",
            "\u001b[0;31mValueError\u001b[0m                                Traceback (most recent call last)",
            "\u001b[0;32m<ipython-input-77-15917b8aca44>\u001b[0m in \u001b[0;36m<cell line: 2>\u001b[0;34m()\u001b[0m\n\u001b[1;32m      1\u001b[0m \u001b[0mx\u001b[0m \u001b[0;34m=\u001b[0m \u001b[0mresolverGaussSeidel\u001b[0m\u001b[0;34m(\u001b[0m\u001b[0mA\u001b[0m\u001b[0;34m,\u001b[0m \u001b[0mb\u001b[0m\u001b[0;34m,\u001b[0m \u001b[0;36m50\u001b[0m\u001b[0;34m)\u001b[0m\u001b[0;34m\u001b[0m\u001b[0;34m\u001b[0m\u001b[0m\n\u001b[0;32m----> 2\u001b[0;31m \u001b[0mcomprobacion\u001b[0m \u001b[0;34m=\u001b[0m \u001b[0mnp\u001b[0m\u001b[0;34m.\u001b[0m\u001b[0mmatmul\u001b[0m\u001b[0;34m(\u001b[0m\u001b[0mA\u001b[0m\u001b[0;34m,\u001b[0m \u001b[0mx\u001b[0m\u001b[0;34m)\u001b[0m\u001b[0;34m\u001b[0m\u001b[0;34m\u001b[0m\u001b[0m\n\u001b[0m\u001b[1;32m      3\u001b[0m \u001b[0;34m\u001b[0m\u001b[0m\n\u001b[1;32m      4\u001b[0m \u001b[0mprint\u001b[0m\u001b[0;34m(\u001b[0m\u001b[0;34m'resultado x:'\u001b[0m\u001b[0;34m)\u001b[0m\u001b[0;34m\u001b[0m\u001b[0;34m\u001b[0m\u001b[0m\n\u001b[1;32m      5\u001b[0m \u001b[0mprint\u001b[0m\u001b[0;34m(\u001b[0m\u001b[0mx\u001b[0m\u001b[0;34m)\u001b[0m\u001b[0;34m\u001b[0m\u001b[0;34m\u001b[0m\u001b[0m\n",
            "\u001b[0;31mValueError\u001b[0m: matmul: Input operand 1 does not have enough dimensions (has 0, gufunc core with signature (n?,k),(k,m?)->(n?,m?) requires 1)"
          ]
        }
      ]
    },
    {
      "cell_type": "code",
      "source": [
        "x = resolverSOR(A, b, 55, 1.3)\n",
        "comprobacion = np.matmul(A, x)\n",
        "\n",
        "print('resultado x:')\n",
        "print(x)\n",
        "print('comprobación:')\n",
        "print(comprobacion)"
      ],
      "metadata": {
        "colab": {
          "base_uri": "https://localhost:8080/",
          "height": 255
        },
        "id": "y7ndxcLgY0uR",
        "outputId": "ec1f10f6-57f0-4fd3-acbd-4b5192fe9725"
      },
      "execution_count": null,
      "outputs": [
        {
          "output_type": "stream",
          "name": "stdout",
          "text": [
            "Radio espectral:  3.5872275353930867 converge: False\n",
            "La matriz no converge a una solución\n"
          ]
        },
        {
          "output_type": "error",
          "ename": "ValueError",
          "evalue": "matmul: Input operand 1 does not have enough dimensions (has 0, gufunc core with signature (n?,k),(k,m?)->(n?,m?) requires 1)",
          "traceback": [
            "\u001b[0;31m---------------------------------------------------------------------------\u001b[0m",
            "\u001b[0;31mValueError\u001b[0m                                Traceback (most recent call last)",
            "\u001b[0;32m<ipython-input-72-2b18c954f6fb>\u001b[0m in \u001b[0;36m<cell line: 2>\u001b[0;34m()\u001b[0m\n\u001b[1;32m      1\u001b[0m \u001b[0mx\u001b[0m \u001b[0;34m=\u001b[0m \u001b[0mresolverSOR\u001b[0m\u001b[0;34m(\u001b[0m\u001b[0mA\u001b[0m\u001b[0;34m,\u001b[0m \u001b[0mb\u001b[0m\u001b[0;34m,\u001b[0m \u001b[0;36m55\u001b[0m\u001b[0;34m,\u001b[0m \u001b[0;36m1.3\u001b[0m\u001b[0;34m)\u001b[0m\u001b[0;34m\u001b[0m\u001b[0;34m\u001b[0m\u001b[0m\n\u001b[0;32m----> 2\u001b[0;31m \u001b[0mcomprobacion\u001b[0m \u001b[0;34m=\u001b[0m \u001b[0mnp\u001b[0m\u001b[0;34m.\u001b[0m\u001b[0mmatmul\u001b[0m\u001b[0;34m(\u001b[0m\u001b[0mA\u001b[0m\u001b[0;34m,\u001b[0m \u001b[0mx\u001b[0m\u001b[0;34m)\u001b[0m\u001b[0;34m\u001b[0m\u001b[0;34m\u001b[0m\u001b[0m\n\u001b[0m\u001b[1;32m      3\u001b[0m \u001b[0;34m\u001b[0m\u001b[0m\n\u001b[1;32m      4\u001b[0m \u001b[0mprint\u001b[0m\u001b[0;34m(\u001b[0m\u001b[0;34m'resultado x:'\u001b[0m\u001b[0;34m)\u001b[0m\u001b[0;34m\u001b[0m\u001b[0;34m\u001b[0m\u001b[0m\n\u001b[1;32m      5\u001b[0m \u001b[0mprint\u001b[0m\u001b[0;34m(\u001b[0m\u001b[0mx\u001b[0m\u001b[0;34m)\u001b[0m\u001b[0;34m\u001b[0m\u001b[0;34m\u001b[0m\u001b[0m\n",
            "\u001b[0;31mValueError\u001b[0m: matmul: Input operand 1 does not have enough dimensions (has 0, gufunc core with signature (n?,k),(k,m?)->(n?,m?) requires 1)"
          ]
        }
      ]
    },
    {
      "cell_type": "code",
      "source": [],
      "metadata": {
        "id": "wckhNX8WY3mw"
      },
      "execution_count": null,
      "outputs": []
    }
  ],
  "metadata": {
    "colab": {
      "provenance": [],
      "toc_visible": true,
      "include_colab_link": true
    },
    "kernelspec": {
      "display_name": ".venv",
      "language": "python",
      "name": "python3"
    },
    "language_info": {
      "codemirror_mode": {
        "name": "ipython",
        "version": 3
      },
      "file_extension": ".py",
      "mimetype": "text/x-python",
      "name": "python",
      "nbconvert_exporter": "python",
      "pygments_lexer": "ipython3",
      "version": "3.10.12"
    }
  },
  "nbformat": 4,
  "nbformat_minor": 0
}